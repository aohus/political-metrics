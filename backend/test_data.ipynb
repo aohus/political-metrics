{
 "cells": [
  {
   "cell_type": "code",
   "execution_count": 1,
   "id": "fc985b5d",
   "metadata": {},
   "outputs": [],
   "source": [
    "import json\n",
    "import os\n",
    "\n",
    "extracted_dir = \"./data/documents/extracted_texts2\"\n",
    "alter2 = {}\n",
    "error = []\n",
    "for fname in os.listdir(extracted_dir):\n",
    "    if fname.endswith(\".json\"):\n",
    "        try:\n",
    "            with open(os.path.join(extracted_dir, fname), \"r\", encoding=\"utf-8\") as f:\n",
    "                data = json.load(f)\n",
    "                bill_num = data[\"title\"].split(\"_\")[0]\n",
    "                if data.get(\"bill_number\") == \"\" or data.get(\"title\") == \"\":\n",
    "                    raise ValueError(f\"Missing required fields in {fname}\")\n",
    "                if not bill_num.endswith(data[\"bill_number\"]):\n",
    "                    raise ValueError(f\"Bill number mismatch in {fname}\")\n",
    "                if data[\"is_alternative\"]:\n",
    "                    alter2[bill_num] = data[\"alternative_bill_numbers\"]\n",
    "                else:\n",
    "                    if \"(대안)\" in data[\"title\"]:\n",
    "                        raise ValueError(f\"Title contains '대안' but is not marked as alternative in {fname}\")\n",
    "        except Exception as e:\n",
    "            print(f\"Error processing {e}\")\n",
    "            error.append((str(e)))"
   ]
  },
  {
   "cell_type": "code",
   "execution_count": 37,
   "id": "d62894ee",
   "metadata": {},
   "outputs": [],
   "source": [
    "import pandas as pd\n",
    "\n",
    "bills = pd.read_json(\"./data/assembly/formatted/bills.json\", orient=\"records\")\n",
    "bill_details = pd.read_json(\"./data/assembly/formatted/bill_details.json\", orient=\"records\")\n",
    "proposers = pd.read_json(\"./data/assembly/formatted/proposer_bills.json\", orient=\"records\")\n",
    "members = pd.read_json(\"./data/assembly/raw/cur_members.json\", orient=\"records\")"
   ]
  },
  {
   "cell_type": "markdown",
   "id": "066c192f",
   "metadata": {},
   "source": [
    "## 발의안"
   ]
  },
  {
   "cell_type": "code",
   "execution_count": 48,
   "id": "eea7bea3",
   "metadata": {},
   "outputs": [
    {
     "name": "stdout",
     "output_type": "stream",
     "text": [
      "위원회 회부 전환율: 0.658\n",
      "위원회 처리 전환율: 0.174\n",
      "본회의 회부 전환율: 0.05\n",
      "본회의 처리 전환율: 0.05\n",
      "공포/처리 전환율: 0.05\n"
     ]
    },
    {
     "data": {
      "text/plain": [
       "CMT_MEET     71.931159\n",
       "CMT_PROC     39.353973\n",
       "LAW_           0.06203\n",
       "LAW_MEET     17.526515\n",
       "LAW_PROC      1.216475\n",
       "PROC          2.919386\n",
       "TOTAL_DT    126.598185\n",
       "dtype: object"
      ]
     },
     "execution_count": 48,
     "metadata": {},
     "output_type": "execute_result"
    }
   ],
   "source": [
    "import pandas as pd\n",
    "\n",
    "# 날짜 컬럼 리스트\n",
    "date_cols = [\n",
    "    \"COMMITTEE_DT\",\n",
    "    \"CMT_PRESENT_DT\",\n",
    "    \"CMT_PROC_DT\",\n",
    "    \"LAW_SUBMIT_DT\",\n",
    "    \"LAW_PRESENT_DT\",\n",
    "    \"LAW_PROC_DT\",\n",
    "    \"PROC_DT\",\n",
    "]\n",
    "\n",
    "# 날짜 컬럼을 datetime으로 변환 (null/None/NaN 안전하게)\n",
    "for col in date_cols:\n",
    "    bill_details[col] = pd.to_datetime(bill_details[col], errors=\"coerce\")\n",
    "\n",
    "# 기간 계산 (결과가 NaN이면 -1로 대체)\n",
    "bill_details = bill_details[bill_details[\"PROC_RESULT\"]!=\"철회\"]\n",
    "bill_details[\"CMT_MEET\"] = (bill_details[\"CMT_PRESENT_DT\"] - bill_details[\"COMMITTEE_DT\"]).dt.days.fillna(-1).astype(int)\n",
    "bill_details[\"CMT_PROC\"] = (bill_details[\"CMT_PROC_DT\"] - bill_details[\"CMT_PRESENT_DT\"]).dt.days.fillna(-1).astype(int)\n",
    "bill_details[\"LAW_\"] = (bill_details[\"LAW_SUBMIT_DT\"] - bill_details[\"CMT_PROC_DT\"]).dt.days.fillna(-1).astype(int)\n",
    "bill_details[\"LAW_MEET\"] = (bill_details[\"LAW_PRESENT_DT\"] - bill_details[\"LAW_SUBMIT_DT\"]).dt.days.fillna(-1).astype(int)\n",
    "bill_details[\"LAW_PROC\"] = (bill_details[\"LAW_PROC_DT\"] - bill_details[\"LAW_PRESENT_DT\"]).dt.days.fillna(-1).astype(int)\n",
    "bill_details[\"PROC\"] = (bill_details[\"PROC_DT\"] - bill_details[\"LAW_PROC_DT\"]).dt.days.fillna(-1).astype(int)\n",
    "bill_details[\"TOTAL_DT\"] = (bill_details[\"PROC_DT\"] - bill_details[\"COMMITTEE_DT\"]).dt.days.fillna(-1).astype(int)\n",
    "\n",
    "# 각 단계별 전환율 계산\n",
    "total = len(bill_details)\n",
    "cmt_meet = (bill_details[\"CMT_MEET\"] != -1).sum()\n",
    "cmt_proc = (bill_details[\"CMT_PROC\"] != -1).sum()\n",
    "law_meet = (bill_details[\"LAW_MEET\"] != -1).sum()\n",
    "law_proc = (bill_details[\"LAW_PROC\"] != -1).sum()\n",
    "proc = (bill_details[\"PROC\"] != -1).sum()\n",
    "\n",
    "print(\"위원회 회부 전환율:\", round(cmt_meet / total, 3))\n",
    "print(\"위원회 처리 전환율:\", round(cmt_proc / total, 3))\n",
    "print(\"본회의 회부 전환율:\", round(law_meet / total, 3))\n",
    "print(\"본회의 처리 전환율:\", round(law_proc / total, 3))\n",
    "print(\"공포/처리 전환율:\", round(proc / total, 3))\n",
    "\n",
    "\n",
    "\n",
    "\n",
    "bill_details[[\"CMT_MEET\", \"CMT_PROC\", \"LAW_\", \"LAW_MEET\", \"LAW_PROC\", \"PROC\", \"TOTAL_DT\"]].replace(-1, pd.NA).mean(skipna=True)\n",
    "# bill_details[bill_details[\"TOTAL_DT\"] != -1][[\"CMT_MEET\", \"CMT_PROC\", \"LAW_MEET\", \"LAW_PROC\", \"PROC\", \"TOTAL_DT\"]]\n"
   ]
  },
  {
   "cell_type": "markdown",
   "id": "3e89cec0",
   "metadata": {},
   "source": [
    "## 의원회별"
   ]
  },
  {
   "cell_type": "code",
   "execution_count": null,
   "id": "33bbad3a",
   "metadata": {},
   "outputs": [
    {
     "data": {
      "text/plain": [
       "'수정가결'"
      ]
     },
     "metadata": {},
     "output_type": "display_data"
    }
   ],
   "source": [
    "\"\\uc218\\uc815\\uac00\\uacb0\""
   ]
  },
  {
   "cell_type": "code",
   "execution_count": null,
   "id": "1167a2bb",
   "metadata": {},
   "outputs": [],
   "source": []
  },
  {
   "cell_type": "code",
   "execution_count": null,
   "id": "7eb14f00",
   "metadata": {},
   "outputs": [],
   "source": [
    "committe_stats = bills.groupby(\"COMMITTEE_NAME\").agg(\n",
    "    BILL_COUNT=(\"BILL_ID\", \"count\"),\n",
    "    PASS_COUNT=(\"BILL_ID\", lambda x: bills.loc[x.index, \"STATUS\"].isin([\"원안가결\", \"수정가결\"]).sum()),\n",
    "    NEW_BILL_COUNT=(\"BILL_ID\", lambda x: bills.loc[x.index, \"STATUS\"].isin([\"원안가결\", \"수정가결\", \"수정안반영폐기\", \"대안반영폐기\"]).sum()),\n",
    ").reset_index().sort_values(\"BILL_COUNT\", ascending=False)\n",
    "\n",
    "committe_stats[\"PASS_RATE\"] = (\n",
    "    committe_stats[\"PASS_COUNT\"] / committe_stats[\"BILL_COUNT\"]\n",
    ").round(2) \n",
    "\n",
    "committe_stats[\"PROCESSED_RATE\"] = (\n",
    "    committe_stats[\"NEW_BILL_COUNT\"] / committe_stats[\"BILL_COUNT\"]\n",
    ").round(2) \n",
    "committe_stats.sort_values(\"BILL_COUNT\", ascending=False)"
   ]
  },
  {
   "cell_type": "code",
   "execution_count": null,
   "id": "381689fb",
   "metadata": {},
   "outputs": [],
   "source": [
    "committees = bills[\"COMMITTEE_NAME\"].unique()\n",
    "for committee in committees:\n",
    "    if committee is None:\n",
    "        continue\n",
    "    print(f\"## {committee}\")\n",
    "    print(\n",
    "        bills[bills[\"COMMITTEE_NAME\"] == committee]\n",
    "        .groupby(\"BILL_NAME\")\n",
    "        .count()[[\"BILL_ID\"]]\n",
    "        .sort_values(\"BILL_ID\", ascending=False)\n",
    "        .reset_index()\n",
    "        .rename(columns={\"BILL_ID\": \"BILL_COUNT\"})\n",
    "        .head(3)\n",
    "    )\n",
    "    print(\"\\n\")\n",
    "\n",
    "bills.groupby([\"COMMITTEE_NAME\", \"BILL_NAME\"]).count()[[\"BILL_ID\"]].sort_values(\"BILL_ID\", ascending=False).reset_index().rename(\n",
    "    columns={\n",
    "        \"BILL_ID\": \"BILL_COUNT\",\n",
    "    }\n",
    ")"
   ]
  },
  {
   "cell_type": "code",
   "execution_count": null,
   "id": "acac1c8c",
   "metadata": {},
   "outputs": [],
   "source": [
    "bills[(bills[\"STATUS\"]==\"원안가결\") | (bills[\"STATUS\"]==\"수정가결\")].groupby([\"COMMITTEE_NAME\", \"BILL_NAME\"]).count()[\"BILL_ID\"].reset_index().rename(\n",
    "    columns={\n",
    "        \"BILL_ID\": \"BILL_COUNT\",\n",
    "    }\n",
    ").sort_values(\"BILL_COUNT\", ascending=False)"
   ]
  },
  {
   "cell_type": "markdown",
   "id": "07e9c03d",
   "metadata": {},
   "source": [
    "## 의원"
   ]
  },
  {
   "cell_type": "code",
   "execution_count": null,
   "id": "06c779bb",
   "metadata": {},
   "outputs": [],
   "source": [
    "member_ratio = members.groupby(\"POLY_NM\").count()[\"MONA_CD\"].reset_index().rename(\n",
    "    columns={\n",
    "        \"MONA_CD\": \"MEMBER_COUNT\",\n",
    "    }\n",
    ").sort_values(\"MEMBER_COUNT\", ascending=False)\n",
    "member_ratio[\"MEMBER_RATIO\"] = (\n",
    "    member_ratio[\"MEMBER_COUNT\"] / member_ratio[\"MEMBER_COUNT\"].sum()\n",
    ").round(2)\n",
    "member_ratio.sort_values(\"MEMBER_RATIO\", ascending=False)"
   ]
  },
  {
   "cell_type": "code",
   "execution_count": null,
   "id": "cbd50259",
   "metadata": {},
   "outputs": [],
   "source": [
    "from collections import defaultdict\n",
    "poly = defaultdict(int)\n",
    "\n",
    "bp = proposers.merge(\n",
    "    members[[\"MONA_CD\", \"POLY_NM\"]],\n",
    "    left_on=\"PROPOSER_ID\",\n",
    "    right_on=\"MONA_CD\",\n",
    "    how=\"inner\",\n",
    ").drop(columns=[\"MONA_CD\"]).groupby(\"BILL_ID\").agg(\n",
    "    {\n",
    "        \"POLY_NM\": lambda x: dict(x.value_counts()),\n",
    "        \"PROPOSER_ID\": lambda x: list(set(x)),\n",
    "        \"PROPOSER_ID\": lambda x: \", \".join(x),\n",
    "    }\n",
    ").reset_index().rename(\n",
    "    columns={\n",
    "        \"POLY_NM\": \"PROPOSER_POLY_NM\",\n",
    "        \"PROPOSER_ID\": \"PROPOSER_IDS\",\n",
    "    }\n",
    ")\n",
    "bp = bp[bp['PROPOSER_POLY_NM'].apply(lambda x: len(x) > 1)]\n",
    "ana = bills[bills['BILL_ID'].isin(bp['BILL_ID'])]"
   ]
  },
  {
   "cell_type": "code",
   "execution_count": null,
   "id": "b89f56f9",
   "metadata": {},
   "outputs": [],
   "source": [
    "ana.groupby([\"COMMITTEE_NAME\", \"BILL_NAME\"]).count()[\"BILL_ID\"].reset_index().rename(\n",
    "    columns={\n",
    "        \"BILL_ID\": \"BILL_COUNT\",\n",
    "    }\n",
    ").sort_values(\"BILL_COUNT\", ascending=False)"
   ]
  },
  {
   "cell_type": "code",
   "execution_count": null,
   "id": "0531c95b",
   "metadata": {},
   "outputs": [],
   "source": [
    "bill_props = proposers.merge(\n",
    "    members[[\"MONA_CD\", \"POLY_NM\"]],\n",
    "    left_on=\"PROPOSER_ID\",\n",
    "    right_on=\"MONA_CD\",\n",
    "    how=\"inner\",\n",
    ").drop(columns=[\"MONA_CD\"]).merge(\n",
    "    bills[[\"BILL_ID\", \"COMMITTEE_NAME\", \"BILL_NAME\"]],\n",
    "    on=\"BILL_ID\",\n",
    "    how=\"inner\",\n",
    ")"
   ]
  },
  {
   "cell_type": "code",
   "execution_count": null,
   "id": "28ca09ab",
   "metadata": {},
   "outputs": [],
   "source": [
    "bill_props"
   ]
  },
  {
   "cell_type": "markdown",
   "id": "c9bf73ad",
   "metadata": {},
   "source": [
    "## 정당별"
   ]
  },
  {
   "cell_type": "code",
   "execution_count": null,
   "id": "8c333d8c",
   "metadata": {},
   "outputs": [],
   "source": [
    "lead_props = bill_props[bill_props[\"PROPOSER_TYPE\"] == \"의원대표\"]\n",
    "# co_props = bill_props[bill_props[\"PROPOSER_TYPE\"] == \"의원공동\"]"
   ]
  },
  {
   "cell_type": "code",
   "execution_count": null,
   "id": "1e41e6de",
   "metadata": {},
   "outputs": [],
   "source": [
    "data = lead_props.groupby([\"POLY_NM\"]).count()[\"BILL_ID\"].reset_index().rename(\n",
    "    columns={\n",
    "        \"BILL_ID\": \"BILL_COUNT\",\n",
    "    }\n",
    ").sort_values(\"BILL_COUNT\", ascending=False)\n",
    "data = data.merge(member_ratio[[\"POLY_NM\", \"MEMBER_COUNT\"]], on=\"POLY_NM\", how=\"left\")\n",
    "data[\"RATIO\"] = data[\"BILL_COUNT\"] / data[\"MEMBER_COUNT\"]\n",
    "data.sort_values(\"RATIO\", ascending=False)\n",
    "data"
   ]
  },
  {
   "cell_type": "code",
   "execution_count": null,
   "id": "5f8025c9",
   "metadata": {},
   "outputs": [],
   "source": [
    "data = lead_props.groupby([\"POLY_NM\"]).count()[\"BILL_ID\"].reset_index().rename(\n",
    "    columns={\n",
    "        \"BILL_ID\": \"BILL_COUNT\",\n",
    "    }\n",
    ").sort_values(\"BILL_COUNT\", ascending=False)\n",
    "data = data.merge(member_ratio, on=\"POLY_NM\", how=\"left\")\n",
    "data[\"RATIO\"] = data[\"BILL_COUNT\"] / data[\"MEMBER_COUNT\"]\n",
    "data.sort_values(\"RATIO\", ascending=False)\n",
    "data"
   ]
  },
  {
   "cell_type": "code",
   "execution_count": null,
   "id": "76423e82",
   "metadata": {},
   "outputs": [],
   "source": [
    "poly_comm = lead_props.groupby([\"POLY_NM\", \"COMMITTEE_NAME\"]).count()[\"BILL_ID\"].reset_index().rename(\n",
    "    columns={\n",
    "        \"BILL_ID\": \"BILL_COUNT\",\n",
    "    }\n",
    ").sort_values(\"BILL_COUNT\", ascending=False)\n",
    "poly_comm = poly_comm.merge(member_ratio, on=\"POLY_NM\", how=\"left\")\n",
    "poly_comm[\"RATIO\"] = poly_comm[\"BILL_COUNT\"] / poly_comm[\"MEMBER_COUNT\"]"
   ]
  },
  {
   "cell_type": "code",
   "execution_count": null,
   "id": "4c24aa3a",
   "metadata": {},
   "outputs": [],
   "source": [
    "poly_comm[poly_comm[\"POLY_NM\"] == \"더불어민주당\"].sort_values(\"RATIO\", ascending=False)"
   ]
  },
  {
   "cell_type": "code",
   "execution_count": null,
   "id": "0a9f3a20",
   "metadata": {},
   "outputs": [],
   "source": [
    "poly_comm[poly_comm[\"POLY_NM\"] == \"국민의힘\"].sort_values(\"RATIO\", ascending=False)"
   ]
  },
  {
   "cell_type": "code",
   "execution_count": null,
   "id": "67b31905",
   "metadata": {},
   "outputs": [],
   "source": [
    "poly_comm[poly_comm[\"POLY_NM\"] == \"조국혁신당\"].sort_values(\"RATIO\", ascending=False)"
   ]
  },
  {
   "cell_type": "code",
   "execution_count": null,
   "id": "bcb3db5c",
   "metadata": {},
   "outputs": [],
   "source": [
    "poly_comm[poly_comm[\"POLY_NM\"] == \"진보당\"].sort_values(\"RATIO\", ascending=False)"
   ]
  },
  {
   "cell_type": "code",
   "execution_count": null,
   "id": "8a8c15d4",
   "metadata": {},
   "outputs": [],
   "source": [
    "poly_bill = lead_props.groupby([\"POLY_NM\", \"BILL_NAME\"]).count()[\"BILL_ID\"].reset_index().rename(\n",
    "    columns={\n",
    "        \"BILL_ID\": \"BILL_COUNT\",\n",
    "    }\n",
    ").sort_values(\"BILL_COUNT\", ascending=False)\n",
    "poly_bill = poly_bill.merge(member_ratio[[\"POLY_NM\", \"MEMBER_COUNT\"]], on=\"POLY_NM\", how=\"left\")\n",
    "\n",
    "poly_bill[\"RATIO\"] = poly_bill[\"BILL_COUNT\"] / poly_bill[\"MEMBER_COUNT\"]"
   ]
  },
  {
   "cell_type": "code",
   "execution_count": null,
   "id": "8a5e841b",
   "metadata": {},
   "outputs": [],
   "source": [
    "poly_bill[poly_bill[\"POLY_NM\"] == \"더불어민주당\"].sort_values(\"RATIO\", ascending=False)"
   ]
  },
  {
   "cell_type": "code",
   "execution_count": null,
   "id": "f924ba99",
   "metadata": {},
   "outputs": [],
   "source": [
    "poly_bill[poly_bill[\"POLY_NM\"] == \"국민의힘\"].sort_values(\"RATIO\", ascending=False)"
   ]
  },
  {
   "cell_type": "code",
   "execution_count": null,
   "id": "5c9b167d",
   "metadata": {},
   "outputs": [],
   "source": [
    "poly_bill[poly_bill[\"POLY_NM\"] == \"조국혁신당\"].sort_values(\"RATIO\", ascending=False)"
   ]
  },
  {
   "cell_type": "code",
   "execution_count": null,
   "id": "a56ef774",
   "metadata": {},
   "outputs": [],
   "source": [
    "poly_bill[poly_bill[\"POLY_NM\"] == \"진보당\"].sort_values(\"RATIO\", ascending=False)"
   ]
  },
  {
   "cell_type": "code",
   "execution_count": null,
   "id": "e0db4c5a",
   "metadata": {},
   "outputs": [],
   "source": []
  }
 ],
 "metadata": {
  "kernelspec": {
   "display_name": "political_score",
   "language": "python",
   "name": "python3"
  },
  "language_info": {
   "codemirror_mode": {
    "name": "ipython",
    "version": 3
   },
   "file_extension": ".py",
   "mimetype": "text/x-python",
   "name": "python",
   "nbconvert_exporter": "python",
   "pygments_lexer": "ipython3",
   "version": "3.12.5"
  }
 },
 "nbformat": 4,
 "nbformat_minor": 5
}
